{
 "cells": [
  {
   "cell_type": "code",
   "execution_count": 26,
   "metadata": {
    "colab": {
     "base_uri": "https://localhost:8080/"
    },
    "executionInfo": {
     "elapsed": 3372,
     "status": "ok",
     "timestamp": 1735882422475,
     "user": {
      "displayName": "SYEDA MAHJABIN PROMA",
      "userId": "14755079196629271634"
     },
     "user_tz": -360
    },
    "id": "4jy9veplk00l",
    "outputId": "d8c7f60c-a00b-417b-d667-af3b81e6e4ca"
   },
   "outputs": [],
   "source": [
    "import pandas as pd\n",
    "import seaborn as sns\n",
    "import matplotlib.pyplot as plt\n",
    "from sklearn.model_selection import train_test_split\n",
    "from sklearn.linear_model import LogisticRegression\n",
    "from sklearn.svm import SVC\n",
    "from sklearn.ensemble import RandomForestClassifier\n",
    "from sklearn.metrics import accuracy_score, classification_report\n",
    "\n",
    "sns.set(color_codes = True)"
   ]
  },
  {
   "cell_type": "markdown",
   "metadata": {
    "id": "_rdWIfYLEPVj"
   },
   "source": [
    "# Data Visualization & Pre-processing"
   ]
  },
  {
   "cell_type": "markdown",
   "metadata": {
    "id": "_gjg72s6lG1u"
   },
   "source": [
    "### Reading Dataset"
   ]
  },
  {
   "cell_type": "code",
   "execution_count": 27,
   "metadata": {
    "id": "8DZDJQcInj3S"
   },
   "outputs": [],
   "source": [
    "studyOnlineDataset = pd.read_csv(\"predictOnlineCourseEngagementDataset.csv\")"
   ]
  },
  {
   "cell_type": "markdown",
   "metadata": {
    "id": "HNFx0hGtsAdY"
   },
   "source": [
    "### Describing Dataset\n"
   ]
  },
  {
   "cell_type": "code",
   "execution_count": 28,
   "metadata": {
    "colab": {
     "base_uri": "https://localhost:8080/",
     "height": 206
    },
    "executionInfo": {
     "elapsed": 20,
     "status": "ok",
     "timestamp": 1735882422475,
     "user": {
      "displayName": "SYEDA MAHJABIN PROMA",
      "userId": "14755079196629271634"
     },
     "user_tz": -360
    },
    "id": "ZpwmfZIFsQQm",
    "outputId": "92052ea7-8682-44d8-9371-73a8dbfe9d27"
   },
   "outputs": [
    {
     "data": {
      "text/html": [
       "<div>\n",
       "<style scoped>\n",
       "    .dataframe tbody tr th:only-of-type {\n",
       "        vertical-align: middle;\n",
       "    }\n",
       "\n",
       "    .dataframe tbody tr th {\n",
       "        vertical-align: top;\n",
       "    }\n",
       "\n",
       "    .dataframe thead th {\n",
       "        text-align: right;\n",
       "    }\n",
       "</style>\n",
       "<table border=\"1\" class=\"dataframe\">\n",
       "  <thead>\n",
       "    <tr style=\"text-align: right;\">\n",
       "      <th></th>\n",
       "      <th>UserID</th>\n",
       "      <th>CourseCategory</th>\n",
       "      <th>TimeSpentOnCourse</th>\n",
       "      <th>NumberOfVideosWatched</th>\n",
       "      <th>NumberOfQuizzesTaken</th>\n",
       "      <th>QuizScores</th>\n",
       "      <th>CompletionRate</th>\n",
       "      <th>DeviceType</th>\n",
       "      <th>CourseCompletion</th>\n",
       "    </tr>\n",
       "  </thead>\n",
       "  <tbody>\n",
       "    <tr>\n",
       "      <th>0</th>\n",
       "      <td>5618</td>\n",
       "      <td>Health</td>\n",
       "      <td>29.979719</td>\n",
       "      <td>17</td>\n",
       "      <td>3</td>\n",
       "      <td>50.365656</td>\n",
       "      <td>20.860773</td>\n",
       "      <td>Mobile</td>\n",
       "      <td>Pending</td>\n",
       "    </tr>\n",
       "    <tr>\n",
       "      <th>1</th>\n",
       "      <td>4326</td>\n",
       "      <td>Arts</td>\n",
       "      <td>27.802640</td>\n",
       "      <td>1</td>\n",
       "      <td>5</td>\n",
       "      <td>62.615970</td>\n",
       "      <td>65.632415</td>\n",
       "      <td>Mobile</td>\n",
       "      <td>Pending</td>\n",
       "    </tr>\n",
       "    <tr>\n",
       "      <th>2</th>\n",
       "      <td>5849</td>\n",
       "      <td>Arts</td>\n",
       "      <td>86.820485</td>\n",
       "      <td>14</td>\n",
       "      <td>2</td>\n",
       "      <td>78.458962</td>\n",
       "      <td>63.812007</td>\n",
       "      <td>Mobile</td>\n",
       "      <td>Completed</td>\n",
       "    </tr>\n",
       "    <tr>\n",
       "      <th>3</th>\n",
       "      <td>4992</td>\n",
       "      <td>Science</td>\n",
       "      <td>35.038427</td>\n",
       "      <td>17</td>\n",
       "      <td>10</td>\n",
       "      <td>59.198853</td>\n",
       "      <td>95.433162</td>\n",
       "      <td>Desktop</td>\n",
       "      <td>Completed</td>\n",
       "    </tr>\n",
       "    <tr>\n",
       "      <th>4</th>\n",
       "      <td>3866</td>\n",
       "      <td>Programming</td>\n",
       "      <td>92.490647</td>\n",
       "      <td>16</td>\n",
       "      <td>0</td>\n",
       "      <td>98.428285</td>\n",
       "      <td>18.102478</td>\n",
       "      <td>Desktop</td>\n",
       "      <td>Pending</td>\n",
       "    </tr>\n",
       "  </tbody>\n",
       "</table>\n",
       "</div>"
      ],
      "text/plain": [
       "   UserID CourseCategory  TimeSpentOnCourse  NumberOfVideosWatched  \\\n",
       "0    5618         Health          29.979719                     17   \n",
       "1    4326           Arts          27.802640                      1   \n",
       "2    5849           Arts          86.820485                     14   \n",
       "3    4992        Science          35.038427                     17   \n",
       "4    3866    Programming          92.490647                     16   \n",
       "\n",
       "   NumberOfQuizzesTaken  QuizScores  CompletionRate DeviceType  \\\n",
       "0                     3   50.365656       20.860773     Mobile   \n",
       "1                     5   62.615970       65.632415     Mobile   \n",
       "2                     2   78.458962       63.812007     Mobile   \n",
       "3                    10   59.198853       95.433162    Desktop   \n",
       "4                     0   98.428285       18.102478    Desktop   \n",
       "\n",
       "  CourseCompletion  \n",
       "0          Pending  \n",
       "1          Pending  \n",
       "2        Completed  \n",
       "3        Completed  \n",
       "4          Pending  "
      ]
     },
     "execution_count": 28,
     "metadata": {},
     "output_type": "execute_result"
    }
   ],
   "source": [
    "studyOnlineDataset.head(5)"
   ]
  },
  {
   "cell_type": "code",
   "execution_count": 29,
   "metadata": {
    "colab": {
     "base_uri": "https://localhost:8080/",
     "height": 300
    },
    "executionInfo": {
     "elapsed": 19,
     "status": "ok",
     "timestamp": 1735882422475,
     "user": {
      "displayName": "SYEDA MAHJABIN PROMA",
      "userId": "14755079196629271634"
     },
     "user_tz": -360
    },
    "id": "3Xn3Gzw-sD_a",
    "outputId": "0d64cc82-e95e-4bbf-aec2-d1680db3dee4"
   },
   "outputs": [
    {
     "data": {
      "text/html": [
       "<div>\n",
       "<style scoped>\n",
       "    .dataframe tbody tr th:only-of-type {\n",
       "        vertical-align: middle;\n",
       "    }\n",
       "\n",
       "    .dataframe tbody tr th {\n",
       "        vertical-align: top;\n",
       "    }\n",
       "\n",
       "    .dataframe thead th {\n",
       "        text-align: right;\n",
       "    }\n",
       "</style>\n",
       "<table border=\"1\" class=\"dataframe\">\n",
       "  <thead>\n",
       "    <tr style=\"text-align: right;\">\n",
       "      <th></th>\n",
       "      <th>UserID</th>\n",
       "      <th>TimeSpentOnCourse</th>\n",
       "      <th>NumberOfVideosWatched</th>\n",
       "      <th>NumberOfQuizzesTaken</th>\n",
       "      <th>QuizScores</th>\n",
       "      <th>CompletionRate</th>\n",
       "    </tr>\n",
       "  </thead>\n",
       "  <tbody>\n",
       "    <tr>\n",
       "      <th>count</th>\n",
       "      <td>9000.000000</td>\n",
       "      <td>9000.000000</td>\n",
       "      <td>9000.000000</td>\n",
       "      <td>9000.000000</td>\n",
       "      <td>9000.000000</td>\n",
       "      <td>9000.000000</td>\n",
       "    </tr>\n",
       "    <tr>\n",
       "      <th>mean</th>\n",
       "      <td>4498.894556</td>\n",
       "      <td>50.163822</td>\n",
       "      <td>10.024667</td>\n",
       "      <td>5.090556</td>\n",
       "      <td>74.706028</td>\n",
       "      <td>50.340146</td>\n",
       "    </tr>\n",
       "    <tr>\n",
       "      <th>std</th>\n",
       "      <td>2596.849433</td>\n",
       "      <td>28.491750</td>\n",
       "      <td>6.029878</td>\n",
       "      <td>3.157762</td>\n",
       "      <td>14.378383</td>\n",
       "      <td>28.950977</td>\n",
       "    </tr>\n",
       "    <tr>\n",
       "      <th>min</th>\n",
       "      <td>1.000000</td>\n",
       "      <td>1.005230</td>\n",
       "      <td>0.000000</td>\n",
       "      <td>0.000000</td>\n",
       "      <td>50.005119</td>\n",
       "      <td>0.009327</td>\n",
       "    </tr>\n",
       "    <tr>\n",
       "      <th>25%</th>\n",
       "      <td>2251.750000</td>\n",
       "      <td>25.440548</td>\n",
       "      <td>5.000000</td>\n",
       "      <td>2.000000</td>\n",
       "      <td>62.283451</td>\n",
       "      <td>25.653614</td>\n",
       "    </tr>\n",
       "    <tr>\n",
       "      <th>50%</th>\n",
       "      <td>4483.500000</td>\n",
       "      <td>49.818417</td>\n",
       "      <td>10.000000</td>\n",
       "      <td>5.000000</td>\n",
       "      <td>74.743294</td>\n",
       "      <td>50.264124</td>\n",
       "    </tr>\n",
       "    <tr>\n",
       "      <th>75%</th>\n",
       "      <td>6751.250000</td>\n",
       "      <td>75.069924</td>\n",
       "      <td>15.000000</td>\n",
       "      <td>8.000000</td>\n",
       "      <td>87.022663</td>\n",
       "      <td>75.572493</td>\n",
       "    </tr>\n",
       "    <tr>\n",
       "      <th>max</th>\n",
       "      <td>9000.000000</td>\n",
       "      <td>99.992558</td>\n",
       "      <td>20.000000</td>\n",
       "      <td>10.000000</td>\n",
       "      <td>99.994984</td>\n",
       "      <td>99.979711</td>\n",
       "    </tr>\n",
       "  </tbody>\n",
       "</table>\n",
       "</div>"
      ],
      "text/plain": [
       "            UserID  TimeSpentOnCourse  NumberOfVideosWatched  \\\n",
       "count  9000.000000        9000.000000            9000.000000   \n",
       "mean   4498.894556          50.163822              10.024667   \n",
       "std    2596.849433          28.491750               6.029878   \n",
       "min       1.000000           1.005230               0.000000   \n",
       "25%    2251.750000          25.440548               5.000000   \n",
       "50%    4483.500000          49.818417              10.000000   \n",
       "75%    6751.250000          75.069924              15.000000   \n",
       "max    9000.000000          99.992558              20.000000   \n",
       "\n",
       "       NumberOfQuizzesTaken   QuizScores  CompletionRate  \n",
       "count           9000.000000  9000.000000     9000.000000  \n",
       "mean               5.090556    74.706028       50.340146  \n",
       "std                3.157762    14.378383       28.950977  \n",
       "min                0.000000    50.005119        0.009327  \n",
       "25%                2.000000    62.283451       25.653614  \n",
       "50%                5.000000    74.743294       50.264124  \n",
       "75%                8.000000    87.022663       75.572493  \n",
       "max               10.000000    99.994984       99.979711  "
      ]
     },
     "execution_count": 29,
     "metadata": {},
     "output_type": "execute_result"
    }
   ],
   "source": [
    "studyOnlineDataset.describe()"
   ]
  },
  {
   "cell_type": "markdown",
   "metadata": {
    "id": "_tGniE0FtGbv"
   },
   "source": [
    "### Dropping Unnecessary Values"
   ]
  },
  {
   "cell_type": "code",
   "execution_count": 30,
   "metadata": {
    "id": "qhNUjoL_wbce"
   },
   "outputs": [],
   "source": [
    "studyOnlineDataset.drop(columns=['UserID'], inplace=True)"
   ]
  },
  {
   "cell_type": "markdown",
   "metadata": {
    "id": "bvjEfddzE0B0"
   },
   "source": [
    "### Null Check"
   ]
  },
  {
   "cell_type": "code",
   "execution_count": 31,
   "metadata": {
    "colab": {
     "base_uri": "https://localhost:8080/",
     "height": 335
    },
    "executionInfo": {
     "elapsed": 17,
     "status": "ok",
     "timestamp": 1735882422475,
     "user": {
      "displayName": "SYEDA MAHJABIN PROMA",
      "userId": "14755079196629271634"
     },
     "user_tz": -360
    },
    "id": "_K8Q5sOItFub",
    "outputId": "69a7d665-47d0-476a-9e6a-96e9e9339493"
   },
   "outputs": [
    {
     "data": {
      "text/plain": [
       "CourseCategory           0\n",
       "TimeSpentOnCourse        0\n",
       "NumberOfVideosWatched    0\n",
       "NumberOfQuizzesTaken     0\n",
       "QuizScores               0\n",
       "CompletionRate           0\n",
       "DeviceType               0\n",
       "CourseCompletion         0\n",
       "dtype: int64"
      ]
     },
     "execution_count": 31,
     "metadata": {},
     "output_type": "execute_result"
    }
   ],
   "source": [
    "studyOnlineDataset.isnull().sum()"
   ]
  },
  {
   "cell_type": "markdown",
   "metadata": {
    "id": "gRJ4Ha_QwUla"
   },
   "source": [
    "### Unique Value Check"
   ]
  },
  {
   "cell_type": "code",
   "execution_count": 32,
   "metadata": {
    "colab": {
     "base_uri": "https://localhost:8080/",
     "height": 335
    },
    "executionInfo": {
     "elapsed": 16,
     "status": "ok",
     "timestamp": 1735882422475,
     "user": {
      "displayName": "SYEDA MAHJABIN PROMA",
      "userId": "14755079196629271634"
     },
     "user_tz": -360
    },
    "id": "1-wAvQPaD0ZP",
    "outputId": "dea7e119-db9a-460c-c087-4ceddee52154"
   },
   "outputs": [
    {
     "data": {
      "text/plain": [
       "CourseCategory              5\n",
       "TimeSpentOnCourse        8123\n",
       "NumberOfVideosWatched      21\n",
       "NumberOfQuizzesTaken       11\n",
       "QuizScores               8123\n",
       "CompletionRate           8123\n",
       "DeviceType                  2\n",
       "CourseCompletion            2\n",
       "dtype: int64"
      ]
     },
     "execution_count": 32,
     "metadata": {},
     "output_type": "execute_result"
    }
   ],
   "source": [
    "studyOnlineDataset.nunique()"
   ]
  },
  {
   "cell_type": "markdown",
   "metadata": {
    "id": "A-trWvVIFUYj"
   },
   "source": [
    "### Check Data Type of Different Column"
   ]
  },
  {
   "cell_type": "code",
   "execution_count": 33,
   "metadata": {
    "colab": {
     "base_uri": "https://localhost:8080/",
     "height": 335
    },
    "executionInfo": {
     "elapsed": 16,
     "status": "ok",
     "timestamp": 1735882422476,
     "user": {
      "displayName": "SYEDA MAHJABIN PROMA",
      "userId": "14755079196629271634"
     },
     "user_tz": -360
    },
    "id": "UEvCVwoN4gM-",
    "outputId": "c23fc0a5-3485-412d-dd6c-5567da182c69"
   },
   "outputs": [
    {
     "data": {
      "text/plain": [
       "CourseCategory            object\n",
       "TimeSpentOnCourse        float64\n",
       "NumberOfVideosWatched      int64\n",
       "NumberOfQuizzesTaken       int64\n",
       "QuizScores               float64\n",
       "CompletionRate           float64\n",
       "DeviceType                object\n",
       "CourseCompletion          object\n",
       "dtype: object"
      ]
     },
     "execution_count": 33,
     "metadata": {},
     "output_type": "execute_result"
    }
   ],
   "source": [
    "studyOnlineDataset.dtypes"
   ]
  },
  {
   "cell_type": "markdown",
   "metadata": {
    "id": "wchdlZ5HFg5Z"
   },
   "source": [
    "### Encoding CourseCategory"
   ]
  },
  {
   "cell_type": "code",
   "execution_count": 34,
   "metadata": {
    "colab": {
     "base_uri": "https://localhost:8080/"
    },
    "executionInfo": {
     "elapsed": 15,
     "status": "ok",
     "timestamp": 1735882422476,
     "user": {
      "displayName": "SYEDA MAHJABIN PROMA",
      "userId": "14755079196629271634"
     },
     "user_tz": -360
    },
    "id": "evNxNDg4FroY",
    "outputId": "e7728b26-eee1-4064-cce0-db79afd619f4"
   },
   "outputs": [
    {
     "name": "stdout",
     "output_type": "stream",
     "text": [
      "['Health' 'Arts' 'Science' 'Programming' 'Business']\n"
     ]
    }
   ],
   "source": [
    "unique_courses = studyOnlineDataset['CourseCategory'].unique()\n",
    "print(unique_courses)\n"
   ]
  },
  {
   "cell_type": "code",
   "execution_count": 35,
   "metadata": {
    "id": "F1eOiANyGDVb"
   },
   "outputs": [],
   "source": [
    "studyOnlineDataset.loc[studyOnlineDataset[\"CourseCategory\"] == \"Health\", \"CourseCategory\"] = 0\n",
    "studyOnlineDataset.loc[studyOnlineDataset[\"CourseCategory\"] == \"Arts\", \"CourseCategory\"] = 1\n",
    "studyOnlineDataset.loc[studyOnlineDataset[\"CourseCategory\"] == \"Science\", \"CourseCategory\"] = 2\n",
    "studyOnlineDataset.loc[studyOnlineDataset[\"CourseCategory\"] == \"Programming\", \"CourseCategory\"] = 3\n",
    "studyOnlineDataset.loc[studyOnlineDataset[\"CourseCategory\"] == \"Business\", \"CourseCategory\"] = 4\n",
    "studyOnlineDataset['CourseCategory'] = studyOnlineDataset['CourseCategory'].astype(int)"
   ]
  },
  {
   "cell_type": "markdown",
   "metadata": {
    "id": "Ix6ldQmMJ6TA"
   },
   "source": [
    "### Encoding Device Type"
   ]
  },
  {
   "cell_type": "code",
   "execution_count": 36,
   "metadata": {
    "colab": {
     "base_uri": "https://localhost:8080/"
    },
    "executionInfo": {
     "elapsed": 922,
     "status": "ok",
     "timestamp": 1735882423384,
     "user": {
      "displayName": "SYEDA MAHJABIN PROMA",
      "userId": "14755079196629271634"
     },
     "user_tz": -360
    },
    "id": "moWM8BJWJ9Nw",
    "outputId": "30fca1e5-79f1-4b29-c5ea-2097c0e543e1"
   },
   "outputs": [
    {
     "name": "stdout",
     "output_type": "stream",
     "text": [
      "['Mobile' 'Desktop']\n"
     ]
    }
   ],
   "source": [
    "unique_device = studyOnlineDataset['DeviceType'].unique()\n",
    "print(unique_device)\n"
   ]
  },
  {
   "cell_type": "code",
   "execution_count": 37,
   "metadata": {
    "id": "0Q1Y6FraKRc1"
   },
   "outputs": [],
   "source": [
    "studyOnlineDataset.loc[studyOnlineDataset[\"DeviceType\"] == \"Desktop\", \"DeviceType\"] = 0\n",
    "studyOnlineDataset.loc[studyOnlineDataset[\"DeviceType\"] == \"Mobile\", \"DeviceType\"] = 1\n",
    "studyOnlineDataset['DeviceType'] = studyOnlineDataset['DeviceType'].astype(int)"
   ]
  },
  {
   "cell_type": "markdown",
   "metadata": {
    "id": "dnw5OEDDKnIM"
   },
   "source": [
    "### Encoding Course Result"
   ]
  },
  {
   "cell_type": "code",
   "execution_count": 38,
   "metadata": {
    "colab": {
     "base_uri": "https://localhost:8080/"
    },
    "executionInfo": {
     "elapsed": 9,
     "status": "ok",
     "timestamp": 1735882423385,
     "user": {
      "displayName": "SYEDA MAHJABIN PROMA",
      "userId": "14755079196629271634"
     },
     "user_tz": -360
    },
    "id": "0JJLghD_J9me",
    "outputId": "db1066df-4d15-4366-f306-381e76dcf8d8"
   },
   "outputs": [
    {
     "name": "stdout",
     "output_type": "stream",
     "text": [
      "['Pending' 'Completed']\n"
     ]
    }
   ],
   "source": [
    "result = studyOnlineDataset['CourseCompletion'].unique()\n",
    "print(result)"
   ]
  },
  {
   "cell_type": "code",
   "execution_count": 39,
   "metadata": {
    "id": "iI-IYzbGK6pN"
   },
   "outputs": [],
   "source": [
    "studyOnlineDataset.loc[studyOnlineDataset[\"CourseCompletion\"] == \"Pending\", \"CourseCompletion\"] = 0\n",
    "studyOnlineDataset.loc[studyOnlineDataset[\"CourseCompletion\"] == \"Completed\", \"CourseCompletion\"] = 1\n",
    "studyOnlineDataset['CourseCompletion'] = studyOnlineDataset['CourseCompletion'].astype(int)"
   ]
  },
  {
   "cell_type": "markdown",
   "metadata": {
    "id": "3F1pisAoOApS"
   },
   "source": [
    "### Checking Dataset"
   ]
  },
  {
   "cell_type": "code",
   "execution_count": 40,
   "metadata": {
    "colab": {
     "base_uri": "https://localhost:8080/",
     "height": 363
    },
    "executionInfo": {
     "elapsed": 8,
     "status": "ok",
     "timestamp": 1735882423385,
     "user": {
      "displayName": "SYEDA MAHJABIN PROMA",
      "userId": "14755079196629271634"
     },
     "user_tz": -360
    },
    "id": "U0oi-oG8Lopq",
    "outputId": "18581172-eff6-4636-ba8a-c05faeb15d2f"
   },
   "outputs": [
    {
     "data": {
      "text/html": [
       "<div>\n",
       "<style scoped>\n",
       "    .dataframe tbody tr th:only-of-type {\n",
       "        vertical-align: middle;\n",
       "    }\n",
       "\n",
       "    .dataframe tbody tr th {\n",
       "        vertical-align: top;\n",
       "    }\n",
       "\n",
       "    .dataframe thead th {\n",
       "        text-align: right;\n",
       "    }\n",
       "</style>\n",
       "<table border=\"1\" class=\"dataframe\">\n",
       "  <thead>\n",
       "    <tr style=\"text-align: right;\">\n",
       "      <th></th>\n",
       "      <th>CourseCategory</th>\n",
       "      <th>TimeSpentOnCourse</th>\n",
       "      <th>NumberOfVideosWatched</th>\n",
       "      <th>NumberOfQuizzesTaken</th>\n",
       "      <th>QuizScores</th>\n",
       "      <th>CompletionRate</th>\n",
       "      <th>DeviceType</th>\n",
       "      <th>CourseCompletion</th>\n",
       "    </tr>\n",
       "  </thead>\n",
       "  <tbody>\n",
       "    <tr>\n",
       "      <th>0</th>\n",
       "      <td>0</td>\n",
       "      <td>29.979719</td>\n",
       "      <td>17</td>\n",
       "      <td>3</td>\n",
       "      <td>50.365656</td>\n",
       "      <td>20.860773</td>\n",
       "      <td>1</td>\n",
       "      <td>0</td>\n",
       "    </tr>\n",
       "    <tr>\n",
       "      <th>1</th>\n",
       "      <td>1</td>\n",
       "      <td>27.802640</td>\n",
       "      <td>1</td>\n",
       "      <td>5</td>\n",
       "      <td>62.615970</td>\n",
       "      <td>65.632415</td>\n",
       "      <td>1</td>\n",
       "      <td>0</td>\n",
       "    </tr>\n",
       "    <tr>\n",
       "      <th>2</th>\n",
       "      <td>1</td>\n",
       "      <td>86.820485</td>\n",
       "      <td>14</td>\n",
       "      <td>2</td>\n",
       "      <td>78.458962</td>\n",
       "      <td>63.812007</td>\n",
       "      <td>1</td>\n",
       "      <td>1</td>\n",
       "    </tr>\n",
       "    <tr>\n",
       "      <th>3</th>\n",
       "      <td>2</td>\n",
       "      <td>35.038427</td>\n",
       "      <td>17</td>\n",
       "      <td>10</td>\n",
       "      <td>59.198853</td>\n",
       "      <td>95.433162</td>\n",
       "      <td>0</td>\n",
       "      <td>1</td>\n",
       "    </tr>\n",
       "    <tr>\n",
       "      <th>4</th>\n",
       "      <td>3</td>\n",
       "      <td>92.490647</td>\n",
       "      <td>16</td>\n",
       "      <td>0</td>\n",
       "      <td>98.428285</td>\n",
       "      <td>18.102478</td>\n",
       "      <td>0</td>\n",
       "      <td>0</td>\n",
       "    </tr>\n",
       "    <tr>\n",
       "      <th>5</th>\n",
       "      <td>0</td>\n",
       "      <td>79.466129</td>\n",
       "      <td>12</td>\n",
       "      <td>7</td>\n",
       "      <td>70.233329</td>\n",
       "      <td>76.484023</td>\n",
       "      <td>0</td>\n",
       "      <td>1</td>\n",
       "    </tr>\n",
       "    <tr>\n",
       "      <th>6</th>\n",
       "      <td>0</td>\n",
       "      <td>78.908724</td>\n",
       "      <td>10</td>\n",
       "      <td>2</td>\n",
       "      <td>86.836533</td>\n",
       "      <td>22.588896</td>\n",
       "      <td>1</td>\n",
       "      <td>0</td>\n",
       "    </tr>\n",
       "    <tr>\n",
       "      <th>7</th>\n",
       "      <td>4</td>\n",
       "      <td>12.068237</td>\n",
       "      <td>16</td>\n",
       "      <td>3</td>\n",
       "      <td>61.553646</td>\n",
       "      <td>27.410991</td>\n",
       "      <td>1</td>\n",
       "      <td>0</td>\n",
       "    </tr>\n",
       "    <tr>\n",
       "      <th>8</th>\n",
       "      <td>4</td>\n",
       "      <td>81.935709</td>\n",
       "      <td>8</td>\n",
       "      <td>4</td>\n",
       "      <td>90.264564</td>\n",
       "      <td>33.308437</td>\n",
       "      <td>0</td>\n",
       "      <td>1</td>\n",
       "    </tr>\n",
       "    <tr>\n",
       "      <th>9</th>\n",
       "      <td>3</td>\n",
       "      <td>83.394026</td>\n",
       "      <td>15</td>\n",
       "      <td>10</td>\n",
       "      <td>63.956353</td>\n",
       "      <td>33.261300</td>\n",
       "      <td>1</td>\n",
       "      <td>0</td>\n",
       "    </tr>\n",
       "  </tbody>\n",
       "</table>\n",
       "</div>"
      ],
      "text/plain": [
       "   CourseCategory  TimeSpentOnCourse  NumberOfVideosWatched  \\\n",
       "0               0          29.979719                     17   \n",
       "1               1          27.802640                      1   \n",
       "2               1          86.820485                     14   \n",
       "3               2          35.038427                     17   \n",
       "4               3          92.490647                     16   \n",
       "5               0          79.466129                     12   \n",
       "6               0          78.908724                     10   \n",
       "7               4          12.068237                     16   \n",
       "8               4          81.935709                      8   \n",
       "9               3          83.394026                     15   \n",
       "\n",
       "   NumberOfQuizzesTaken  QuizScores  CompletionRate  DeviceType  \\\n",
       "0                     3   50.365656       20.860773           1   \n",
       "1                     5   62.615970       65.632415           1   \n",
       "2                     2   78.458962       63.812007           1   \n",
       "3                    10   59.198853       95.433162           0   \n",
       "4                     0   98.428285       18.102478           0   \n",
       "5                     7   70.233329       76.484023           0   \n",
       "6                     2   86.836533       22.588896           1   \n",
       "7                     3   61.553646       27.410991           1   \n",
       "8                     4   90.264564       33.308437           0   \n",
       "9                    10   63.956353       33.261300           1   \n",
       "\n",
       "   CourseCompletion  \n",
       "0                 0  \n",
       "1                 0  \n",
       "2                 1  \n",
       "3                 1  \n",
       "4                 0  \n",
       "5                 1  \n",
       "6                 0  \n",
       "7                 0  \n",
       "8                 1  \n",
       "9                 0  "
      ]
     },
     "execution_count": 40,
     "metadata": {},
     "output_type": "execute_result"
    }
   ],
   "source": [
    "studyOnlineDataset.head(10)"
   ]
  },
  {
   "cell_type": "code",
   "execution_count": 41,
   "metadata": {
    "colab": {
     "base_uri": "https://localhost:8080/",
     "height": 335
    },
    "executionInfo": {
     "elapsed": 7,
     "status": "ok",
     "timestamp": 1735882423385,
     "user": {
      "displayName": "SYEDA MAHJABIN PROMA",
      "userId": "14755079196629271634"
     },
     "user_tz": -360
    },
    "id": "j_of3dsbHuPT",
    "outputId": "9e436159-f914-4983-d834-a1191de42888"
   },
   "outputs": [
    {
     "data": {
      "text/plain": [
       "CourseCategory             int32\n",
       "TimeSpentOnCourse        float64\n",
       "NumberOfVideosWatched      int64\n",
       "NumberOfQuizzesTaken       int64\n",
       "QuizScores               float64\n",
       "CompletionRate           float64\n",
       "DeviceType                 int32\n",
       "CourseCompletion           int32\n",
       "dtype: object"
      ]
     },
     "execution_count": 41,
     "metadata": {},
     "output_type": "execute_result"
    }
   ],
   "source": [
    "studyOnlineDataset.dtypes"
   ]
  },
  {
   "cell_type": "markdown",
   "metadata": {
    "id": "olglnq9z6sLl"
   },
   "source": [
    "### Histogram Plot"
   ]
  },
  {
   "cell_type": "code",
   "execution_count": 42,
   "metadata": {
    "colab": {
     "base_uri": "https://localhost:8080/",
     "height": 935
    },
    "executionInfo": {
     "elapsed": 2487,
     "status": "ok",
     "timestamp": 1735882425866,
     "user": {
      "displayName": "SYEDA MAHJABIN PROMA",
      "userId": "14755079196629271634"
     },
     "user_tz": -360
    },
    "id": "XFrR2UBW6rJw",
    "outputId": "45f93fef-bcd1-4d29-8e79-f94a29747942"
   },
   "outputs": [
    {
     "data": {
      "image/png": "[encoded data removed]",
      "text/plain": [
       "<Figure size 1500x1000 with 9 Axes>"
      ]
     },
     "metadata": {},
     "output_type": "display_data"
    }
   ],
   "source": [
    "studyOnlineDataset.hist(bins=30, figsize=(15, 10))\n",
    "plt.suptitle('Histograms for All Features', fontsize=16)\n",
    "plt.show()\n"
   ]
  },
  {
   "cell_type": "markdown",
   "metadata": {
    "id": "2zZUVy5t7woo"
   },
   "source": [
    "### Box plot"
   ]
  },
  {
   "cell_type": "code",
   "execution_count": 43,
   "metadata": {
    "colab": {
     "base_uri": "https://localhost:8080/",
     "height": 998
    },
    "executionInfo": {
     "elapsed": 2631,
     "status": "ok",
     "timestamp": 1735882428494,
     "user": {
      "displayName": "SYEDA MAHJABIN PROMA",
      "userId": "14755079196629271634"
     },
     "user_tz": -360
    },
    "id": "H_y0zK8b7yl4",
    "outputId": "fd0ac037-6e17-4c3c-f7b9-b0acf364ca6d"
   },
   "outputs": [
    {
     "data": {
      "image/png": "[encoded data removed]",
      "text/plain": [
       "<Figure size 1000x1000 with 9 Axes>"
      ]
     },
     "metadata": {},
     "output_type": "display_data"
    }
   ],
   "source": [
    "fig, axes = plt.subplots(3, 3, figsize=(10, 10))\n",
    "fig.suptitle(\"Boxplots of All Features\", size=50)\n",
    "\n",
    "labels_list = list(studyOnlineDataset.columns)\n",
    "\n",
    "idx = 0\n",
    "red_circle = dict(markerfacecolor='red', marker='o')\n",
    "green_diamond = dict(markerfacecolor='green', marker='D', markeredgecolor='yellow')\n",
    "\n",
    "for i in range(3):\n",
    "    for j in range(3):\n",
    "        if idx < len(labels_list):\n",
    "            sns.boxplot(ax=axes[i, j],\n",
    "                        data=studyOnlineDataset[labels_list[idx]],\n",
    "                        flierprops=red_circle,\n",
    "                        showmeans=True,\n",
    "                        meanprops=green_diamond)\n",
    "            axes[i, j].set_title(labels_list[idx], fontsize=20)\n",
    "            idx += 1\n",
    "        else:\n",
    "            axes[i, j].axis('off')\n",
    "\n",
    "plt.tight_layout(rect=[0, 0, 1, 0.96])\n",
    "plt.show()\n"
   ]
  },
  {
   "cell_type": "markdown",
   "metadata": {
    "id": "dHALfca59gVV"
   },
   "source": [
    "#Model Building"
   ]
  },
  {
   "cell_type": "markdown",
   "metadata": {
    "id": "9qIVw4OnJx9O"
   },
   "source": [
    "### Dividing Dataset"
   ]
  },
  {
   "cell_type": "code",
   "execution_count": 44,
   "metadata": {
    "id": "2MbhLttC9jlI"
   },
   "outputs": [],
   "source": [
    "x = studyOnlineDataset.drop('CourseCompletion', axis=1)\n",
    "y = studyOnlineDataset['CourseCompletion']\n",
    "X_train, X_test, y_train, y_test = train_test_split(x, y, test_size=0.2, random_state=42)"
   ]
  },
  {
   "cell_type": "markdown",
   "metadata": {
    "id": "YYS7xYM3LwSE"
   },
   "source": [
    "### Logistic Regression"
   ]
  },
  {
   "cell_type": "code",
   "execution_count": 45,
   "metadata": {
    "colab": {
     "base_uri": "https://localhost:8080/"
    },
    "executionInfo": {
     "elapsed": 7,
     "status": "ok",
     "timestamp": 1735882428494,
     "user": {
      "displayName": "SYEDA MAHJABIN PROMA",
      "userId": "14755079196629271634"
     },
     "user_tz": -360
    },
    "id": "PawSb7IxLzbV",
    "outputId": "38dae409-1748-4ead-8621-db4eba4c725a"
   },
   "outputs": [
    {
     "name": "stdout",
     "output_type": "stream",
     "text": [
      "Logistic Regression Accuracy: 0.79\n",
      "\n",
      "Logistic Regression Report:\n",
      "              precision    recall  f1-score   support\n",
      "\n",
      "           0       0.81      0.85      0.83      1068\n",
      "           1       0.77      0.70      0.73       732\n",
      "\n",
      "    accuracy                           0.79      1800\n",
      "   macro avg       0.79      0.78      0.78      1800\n",
      "weighted avg       0.79      0.79      0.79      1800\n",
      "\n"
     ]
    }
   ],
   "source": [
    "log_model = LogisticRegression(max_iter=1000)\n",
    "log_model.fit(X_train, y_train)\n",
    "log_preds = log_model.predict(X_test)\n",
    "log_accuracy = accuracy_score(y_test, log_preds)\n",
    "print(f\"Logistic Regression Accuracy: {log_accuracy:.2f}\")\n",
    "print()\n",
    "print(\"Logistic Regression Report:\")\n",
    "print(classification_report(y_test, log_preds))\n"
   ]
  },
  {
   "cell_type": "markdown",
   "metadata": {
    "id": "vpk2ltd2RCJ7"
   },
   "source": [
    "### SVM Model"
   ]
  },
  {
   "cell_type": "code",
   "execution_count": 46,
   "metadata": {
    "colab": {
     "base_uri": "https://localhost:8080/"
    },
    "executionInfo": {
     "elapsed": 2150,
     "status": "ok",
     "timestamp": 1735882430638,
     "user": {
      "displayName": "SYEDA MAHJABIN PROMA",
      "userId": "14755079196629271634"
     },
     "user_tz": -360
    },
    "id": "z_rcUvwFREUL",
    "outputId": "054d4b82-59a5-431e-9cfa-2065ac7e238c"
   },
   "outputs": [
    {
     "name": "stdout",
     "output_type": "stream",
     "text": [
      "SVM Accuracy: 0.83\n",
      "\n",
      "SVM Report:\n",
      "              precision    recall  f1-score   support\n",
      "\n",
      "           0       0.84      0.89      0.86      1068\n",
      "           1       0.82      0.75      0.79       732\n",
      "\n",
      "    accuracy                           0.83      1800\n",
      "   macro avg       0.83      0.82      0.83      1800\n",
      "weighted avg       0.83      0.83      0.83      1800\n",
      "\n"
     ]
    }
   ],
   "source": [
    "svm_model = SVC(kernel='rbf', C=1, random_state=42)  # RBF kernel for non-linear classification\n",
    "svm_model.fit(X_train, y_train)\n",
    "svm_preds = svm_model.predict(X_test)\n",
    "svm_accuracy = accuracy_score(y_test, svm_preds)\n",
    "print(f\"SVM Accuracy: {svm_accuracy:.2f}\")\n",
    "print()\n",
    "print(\"SVM Report:\")\n",
    "print(classification_report(y_test, svm_preds))\n"
   ]
  },
  {
   "cell_type": "markdown",
   "metadata": {
    "id": "03cGFZNTPP0E"
   },
   "source": [
    "### Random Forest"
   ]
  },
  {
   "cell_type": "code",
   "execution_count": 47,
   "metadata": {
    "colab": {
     "base_uri": "https://localhost:8080/"
    },
    "executionInfo": {
     "elapsed": 1168,
     "status": "ok",
     "timestamp": 1735882431802,
     "user": {
      "displayName": "SYEDA MAHJABIN PROMA",
      "userId": "14755079196629271634"
     },
     "user_tz": -360
    },
    "id": "hhK2ZQ_oNhRN",
    "outputId": "22b15dc0-8a5d-4eb4-a070-103bf8874b1b"
   },
   "outputs": [
    {
     "name": "stdout",
     "output_type": "stream",
     "text": [
      "Random Forest Accuracy: 0.96\n",
      "\n",
      "Random Forest Report:\n",
      "              precision    recall  f1-score   support\n",
      "\n",
      "           0       0.95      0.98      0.96      1068\n",
      "           1       0.97      0.92      0.95       732\n",
      "\n",
      "    accuracy                           0.96      1800\n",
      "   macro avg       0.96      0.95      0.95      1800\n",
      "weighted avg       0.96      0.96      0.96      1800\n",
      "\n"
     ]
    }
   ],
   "source": [
    "rf_model = RandomForestClassifier(n_estimators=100, random_state=42)\n",
    "rf_model.fit(X_train, y_train)\n",
    "rf_preds = rf_model.predict(X_test)\n",
    "rf_accuracy = accuracy_score(y_test, rf_preds)\n",
    "print(f\"Random Forest Accuracy: {rf_accuracy:.2f}\")\n",
    "print()\n",
    "print(\"Random Forest Report:\")\n",
    "print(classification_report(y_test, rf_preds))"
   ]
  },
  {
   "cell_type": "code",
   "execution_count": 48,
   "metadata": {
    "colab": {
     "base_uri": "https://localhost:8080/"
    },
    "executionInfo": {
     "elapsed": 6,
     "status": "ok",
     "timestamp": 1735882431802,
     "user": {
      "displayName": "SYEDA MAHJABIN PROMA",
      "userId": "14755079196629271634"
     },
     "user_tz": -360
    },
    "id": "fJkkFsnjTAMg",
    "outputId": "637be744-b458-4a14-a676-806ac2ae6e66"
   },
   "outputs": [
    {
     "name": "stdout",
     "output_type": "stream",
     "text": [
      "CourseCategory\n",
      "TimeSpentOnCourse\n",
      "NumberOfVideosWatched\n",
      "NumberOfQuizzesTaken\n",
      "QuizScores\n",
      "CompletionRate\n",
      "DeviceType\n"
     ]
    }
   ],
   "source": [
    "for feature in (x.columns.tolist()):\n",
    "    print(feature)"
   ]
  },
  {
   "cell_type": "code",
   "execution_count": 49,
   "metadata": {
    "colab": {
     "base_uri": "https://localhost:8080/"
    },
    "executionInfo": {
     "elapsed": 32693,
     "status": "ok",
     "timestamp": 1735882464490,
     "user": {
      "displayName": "SYEDA MAHJABIN PROMA",
      "userId": "14755079196629271634"
     },
     "user_tz": -360
    },
    "id": "BUUCZoXEijyJ",
    "outputId": "0af96f3a-8b61-482f-fc1e-084c2a2817c7"
   },
   "outputs": [
    {
     "name": "stdin",
     "output_type": "stream",
     "text": [
      "Enter Course Name ['Health', 'Arts', 'Science', 'Programming', 'Business']:  Science\n",
      "Enter Time Spent on Course:  500\n",
      "Enter Number of Videos Watched:  400\n",
      "Enter Number of Quizzes Taken:  20\n",
      "Enter Average Quiz Score:  100\n",
      "Enter Completion Rate:  80\n",
      "Enter Device Type ['Desktop', 'Mobile']:  Desktop\n"
     ]
    },
    {
     "name": "stdout",
     "output_type": "stream",
     "text": [
      "\n",
      "Course COMPLETED\n"
     ]
    }
   ],
   "source": [
    "categories = ['Health', 'Arts', 'Science', 'Programming', 'Business']\n",
    "devices = ['Desktop', 'Mobile']\n",
    "\n",
    "userData = pd.DataFrame({\n",
    "    'CourseCategory': [categories.index(input(f\"Enter Course Name {categories}: \"))],\n",
    "    'TimeSpentOnCourse': [float(input(\"Enter Time Spent on Course: \"))],\n",
    "    'NumberOfVideosWatched': [int(input(\"Enter Number of Videos Watched: \"))],\n",
    "    'NumberOfQuizzesTaken': [int(input(\"Enter Number of Quizzes Taken: \"))],\n",
    "    'QuizScores': [float(input(\"Enter Average Quiz Score: \"))],\n",
    "    'CompletionRate': [float(input(\"Enter Completion Rate: \"))],\n",
    "    'DeviceType': [devices.index(input(f\"Enter Device Type {devices}: \"))]\n",
    "})\n",
    "\n",
    "prediction = rf_model.predict(userData)\n",
    "print()\n",
    "if prediction[0] == 0:\n",
    "    print(\"Course PENDING\")\n",
    "if prediction[0] == 1:\n",
    "    print(\"Course COMPLETED\")\n"
   ]
  }
 ],
 "metadata": {
  "colab": {
   "provenance": [
    {
     "file_id": "1nz4FdqGpnJOsWuMnCaodbIkOTh7P_m-z",
     "timestamp": 1736013683493
    }
   ]
  },
  "kernelspec": {
   "display_name": "Python 3 (ipykernel)",
   "language": "python",
   "name": "python3"
  },
  "language_info": {
   "codemirror_mode": {
    "name": "ipython",
    "version": 3
   },
   "file_extension": ".py",
   "mimetype": "text/x-python",
   "name": "python",
   "nbconvert_exporter": "python",
   "pygments_lexer": "ipython3",
   "version": "3.9.0"
  }
 },
 "nbformat": 4,
 "nbformat_minor": 4
}
